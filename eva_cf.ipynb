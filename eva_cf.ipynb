{
  "cells": [
    {
      "cell_type": "code",
      "execution_count": 1,
      "metadata": {
        "id": "QUoMC6W36cfO"
      },
      "outputs": [],
      "source": [
        "import pandas as pd\n",
        "import numpy as np\n",
        "import seaborn as sns\n",
        "import matplotlib.pyplot as plt\n",
        "from sklearn.metrics import confusion_matrix\n",
        "import os"
      ]
    },
    {
      "cell_type": "code",
      "execution_count": 2,
      "metadata": {
        "id": "BDJodpUB7W8j"
      },
      "outputs": [],
      "source": [
        "# Load the datasets\n",
        "sidereva_path = 'C:/Users/stdso/Documents/USTH/Med/BioAct-Het-main/Data/sidereva.csv'\n",
        "group2eva_path = 'C:/Users/stdso/Documents/USTH/Med/BioAct-Het-main/Data/group2eva.csv'"
      ]
    },
    {
      "cell_type": "code",
      "execution_count": 3,
      "metadata": {
        "id": "qaAW-ucF8EoT"
      },
      "outputs": [],
      "source": [
        "\n",
        "sidereva_df = pd.read_csv(sidereva_path)\n",
        "group2eva_df = pd.read_csv(group2eva_path)"
      ]
    },
    {
      "cell_type": "code",
      "execution_count": 4,
      "metadata": {
        "colab": {
          "base_uri": "https://localhost:8080/"
        },
        "id": "pGEwg0CY8LUq",
        "outputId": "52d3835c-c529-423f-99ae-32ed4d23d875"
      },
      "outputs": [
        {
          "name": "stdout",
          "output_type": "stream",
          "text": [
            "   Unnamed: 0                                             smiles  \\\n",
            "0           0             CCN(CC)CCCC(C)NC1=C2C=CC(=CC2=NC=C1)Cl   \n",
            "1           1           C1=C(N=C(S1)N=C(N)N)CSCCC(=NS(=O)(=O)N)N   \n",
            "2           2                 C1=CC(=C(C(=C1)Cl)CC(=O)N=C(N)N)Cl   \n",
            "3           3            CCN(CCCC(C)NC1=C2C=CC(=CC2=NC=C1)Cl)CCO   \n",
            "4           4              CCC(CC)OC1C=C(CC(C1NC(=O)C)N)C(=O)OCC   \n",
            "5           5   CC12CC(C3C(C1CCC2(C(=O)CO)O)CCC4=CC(=O)C=CC34C)O   \n",
            "6           6  CC(C)C1=NC(=CS1)CN(C)C(=O)NC(C(C)C)C(=O)NC(CC2...   \n",
            "\n",
            "   Hepatobiliary disorders  Metabolism and nutrition disorders  \\\n",
            "0                        1                                   1   \n",
            "1                        1                                   1   \n",
            "2                        0                                   1   \n",
            "3                        1                                   1   \n",
            "4                        1                                   1   \n",
            "5                        1                                   1   \n",
            "6                        1                                   1   \n",
            "\n",
            "   Product issues  Eye disorders  Investigations  \\\n",
            "0               0              1               1   \n",
            "1               0              1               1   \n",
            "2               0              1               1   \n",
            "3               0              1               1   \n",
            "4               0              1               1   \n",
            "5               0              1               1   \n",
            "6               0              1               1   \n",
            "\n",
            "   Musculoskeletal and connective tissue disorders  \\\n",
            "0                                                1   \n",
            "1                                                1   \n",
            "2                                                1   \n",
            "3                                                1   \n",
            "4                                                1   \n",
            "5                                                1   \n",
            "6                                                1   \n",
            "\n",
            "   Gastrointestinal disorders  Social circumstances  ...  \\\n",
            "0                           1                     0  ...   \n",
            "1                           1                     0  ...   \n",
            "2                           1                     0  ...   \n",
            "3                           1                     0  ...   \n",
            "4                           1                     0  ...   \n",
            "5                           1                     0  ...   \n",
            "6                           1                     1  ...   \n",
            "\n",
            "   Infections and infestations  \\\n",
            "0                            0   \n",
            "1                            1   \n",
            "2                            1   \n",
            "3                            0   \n",
            "4                            1   \n",
            "5                            1   \n",
            "6                            1   \n",
            "\n",
            "   Respiratory, thoracic and mediastinal disorders  Psychiatric disorders  \\\n",
            "0                                                0                      1   \n",
            "1                                                1                      1   \n",
            "2                                                1                      1   \n",
            "3                                                1                      1   \n",
            "4                                                1                      1   \n",
            "5                                                1                      1   \n",
            "6                                                1                      1   \n",
            "\n",
            "   Renal and urinary disorders  \\\n",
            "0                            0   \n",
            "1                            1   \n",
            "2                            1   \n",
            "3                            0   \n",
            "4                            0   \n",
            "5                            0   \n",
            "6                            1   \n",
            "\n",
            "   Pregnancy, puerperium and perinatal conditions  \\\n",
            "0                                               0   \n",
            "1                                               0   \n",
            "2                                               0   \n",
            "3                                               0   \n",
            "4                                               0   \n",
            "5                                               0   \n",
            "6                                               0   \n",
            "\n",
            "   Ear and labyrinth disorders  Cardiac disorders  Nervous system disorders  \\\n",
            "0                            1                  1                         1   \n",
            "1                            1                  1                         1   \n",
            "2                            1                  1                         1   \n",
            "3                            1                  1                         1   \n",
            "4                            1                  1                         1   \n",
            "5                            1                  1                         1   \n",
            "6                            1                  1                         1   \n",
            "\n",
            "   Injury, poisoning and procedural complications           Drug_Name  \n",
            "0                                               1         Chloroquine  \n",
            "1                                               1          Famotidine  \n",
            "2                                               1          Guanfacine  \n",
            "3                                               1  Hydroxychloroquine  \n",
            "4                                               1         Oseltamivir  \n",
            "5                                               1        Prednisolone  \n",
            "6                                               1           Ritonavir  \n",
            "\n",
            "[7 rows x 30 columns]\n"
          ]
        }
      ],
      "source": [
        "print(sidereva_df)"
      ]
    },
    {
      "cell_type": "code",
      "execution_count": 5,
      "metadata": {
        "colab": {
          "base_uri": "https://localhost:8080/"
        },
        "id": "NnoKN5kC8Odi",
        "outputId": "63b851eb-9540-4475-fd9e-d0882c4d2a16"
      },
      "outputs": [
        {
          "name": "stdout",
          "output_type": "stream",
          "text": [
            "   Unnamed: 0                                             smiles  \\\n",
            "0           0             CCN(CC)CCCC(C)NC1=C2C=CC(=CC2=NC=C1)Cl   \n",
            "1           1           C1=C(N=C(S1)N=C(N)N)CSCCC(=NS(=O)(=O)N)N   \n",
            "2           2                 C1=CC(=C(C(=C1)Cl)CC(=O)N=C(N)N)Cl   \n",
            "3           3            CCN(CCCC(C)NC1=C2C=CC(=CC2=NC=C1)Cl)CCO   \n",
            "4           4              CCC(CC)OC1C=C(CC(C1NC(=O)C)N)C(=O)OCC   \n",
            "5           5   CC12CC(C3C(C1CCC2(C(=O)CO)O)CCC4=CC(=O)C=CC34C)O   \n",
            "6           6  CC(C)C1=NC(=CS1)CN(C)C(=O)NC(C(C)C)C(=O)NC(CC2...   \n",
            "\n",
            "   Hepatobiliary disorders  Metabolism and nutrition disorders  \\\n",
            "0                 0.967550                            0.993751   \n",
            "1                 0.690025                            0.603870   \n",
            "2                 0.156855                            0.857232   \n",
            "3                 0.595787                            0.648333   \n",
            "4                 0.600960                            0.743598   \n",
            "5                 0.619850                            0.691810   \n",
            "6                 0.999383                            0.999902   \n",
            "\n",
            "   Product issues  Eye disorders  Investigations  \\\n",
            "0        0.003168       0.937722        0.998738   \n",
            "1        0.013750       0.246612        0.749966   \n",
            "2        0.024979       0.949031        0.918630   \n",
            "3        0.011375       0.373598        0.860666   \n",
            "4        0.019050       0.680181        0.912608   \n",
            "5        0.093029       0.795393        0.859381   \n",
            "6        0.147475       0.999633        0.999953   \n",
            "\n",
            "   Musculoskeletal and connective tissue disorders  \\\n",
            "0                                         0.992788   \n",
            "1                                         0.577422   \n",
            "2                                         0.927878   \n",
            "3                                         0.658166   \n",
            "4                                         0.784891   \n",
            "5                                         0.715121   \n",
            "6                                         0.999917   \n",
            "\n",
            "   Gastrointestinal disorders  Social circumstances  ...  \\\n",
            "0                    0.999898              0.044647  ...   \n",
            "1                    0.964314              0.127061  ...   \n",
            "2                    0.989466              0.301452  ...   \n",
            "3                    0.986996              0.106518  ...   \n",
            "4                    0.992219              0.205481  ...   \n",
            "5                    0.986445              0.359330  ...   \n",
            "6                    0.999996              0.662331  ...   \n",
            "\n",
            "   Infections and infestations  \\\n",
            "0                     0.996278   \n",
            "1                     0.547875   \n",
            "2                     0.935044   \n",
            "3                     0.624964   \n",
            "4                     0.692619   \n",
            "5                     0.716660   \n",
            "6                     0.999749   \n",
            "\n",
            "   Respiratory, thoracic and mediastinal disorders  Psychiatric disorders  \\\n",
            "0                                         0.994513               0.984182   \n",
            "1                                         0.574001               0.555049   \n",
            "2                                         0.965423               0.956451   \n",
            "3                                         0.692757               0.677151   \n",
            "4                                         0.836183               0.831428   \n",
            "5                                         0.768522               0.775429   \n",
            "6                                         0.999923               0.999908   \n",
            "\n",
            "   Renal and urinary disorders  \\\n",
            "0                     0.993392   \n",
            "1                     0.611244   \n",
            "2                     0.766842   \n",
            "3                     0.637393   \n",
            "4                     0.715311   \n",
            "5                     0.667526   \n",
            "6                     0.999903   \n",
            "\n",
            "   Pregnancy, puerperium and perinatal conditions  \\\n",
            "0                                        0.012457   \n",
            "1                                        0.067206   \n",
            "2                                        0.113062   \n",
            "3                                        0.055747   \n",
            "4                                        0.101912   \n",
            "5                                        0.298484   \n",
            "6                                        0.460667   \n",
            "\n",
            "   Ear and labyrinth disorders  Cardiac disorders  Nervous system disorders  \\\n",
            "0                     0.921659           0.983893                  0.999543   \n",
            "1                     0.318471           0.538744                  0.844780   \n",
            "2                     0.818813           0.964794                  0.996614   \n",
            "3                     0.305935           0.702645                  0.957196   \n",
            "4                     0.575065           0.829681                  0.979411   \n",
            "5                     0.648540           0.778208                  0.968407   \n",
            "6                     0.999540           0.999858                  0.999980   \n",
            "\n",
            "   Injury, poisoning and procedural complications           Drug_Name  \n",
            "0                                        0.993257         Chloroquine  \n",
            "1                                        0.541580          Famotidine  \n",
            "2                                        0.947976          Guanfacine  \n",
            "3                                        0.624910  Hydroxychloroquine  \n",
            "4                                        0.703090         Oseltamivir  \n",
            "5                                        0.677637        Prednisolone  \n",
            "6                                        0.999858           Ritonavir  \n",
            "\n",
            "[7 rows x 30 columns]\n"
          ]
        }
      ],
      "source": [
        "print(group2eva_df)"
      ]
    },
    {
      "cell_type": "code",
      "execution_count": 6,
      "metadata": {
        "id": "uOUQx-vV8ZYT"
      },
      "outputs": [],
      "source": [
        "# Convert 'Drug_Name' to string to ensure consistency\n",
        "sidereva_df['Drug_Name'] = sidereva_df['Drug_Name'].astype(str)\n",
        "group2eva_df['Drug_Name'] = group2eva_df['Drug_Name'].astype(str)\n"
      ]
    },
    {
      "cell_type": "code",
      "execution_count": 7,
      "metadata": {
        "colab": {
          "base_uri": "https://localhost:8080/"
        },
        "id": "2Zzx9cB48gBb",
        "outputId": "d2b4bbe6-a567-4b7a-c39e-aed91b66dded"
      },
      "outputs": [
        {
          "name": "stdout",
          "output_type": "stream",
          "text": [
            "   Unnamed: 0_gt                                          smiles_gt  \\\n",
            "0              0             CCN(CC)CCCC(C)NC1=C2C=CC(=CC2=NC=C1)Cl   \n",
            "1              1           C1=C(N=C(S1)N=C(N)N)CSCCC(=NS(=O)(=O)N)N   \n",
            "2              2                 C1=CC(=C(C(=C1)Cl)CC(=O)N=C(N)N)Cl   \n",
            "3              3            CCN(CCCC(C)NC1=C2C=CC(=CC2=NC=C1)Cl)CCO   \n",
            "4              4              CCC(CC)OC1C=C(CC(C1NC(=O)C)N)C(=O)OCC   \n",
            "5              5   CC12CC(C3C(C1CCC2(C(=O)CO)O)CCC4=CC(=O)C=CC34C)O   \n",
            "6              6  CC(C)C1=NC(=CS1)CN(C)C(=O)NC(C(C)C)C(=O)NC(CC2...   \n",
            "\n",
            "   Hepatobiliary disorders_gt  Metabolism and nutrition disorders_gt  \\\n",
            "0                           1                                      1   \n",
            "1                           1                                      1   \n",
            "2                           0                                      1   \n",
            "3                           1                                      1   \n",
            "4                           1                                      1   \n",
            "5                           1                                      1   \n",
            "6                           1                                      1   \n",
            "\n",
            "   Product issues_gt  Eye disorders_gt  Investigations_gt  \\\n",
            "0                  0                 1                  1   \n",
            "1                  0                 1                  1   \n",
            "2                  0                 1                  1   \n",
            "3                  0                 1                  1   \n",
            "4                  0                 1                  1   \n",
            "5                  0                 1                  1   \n",
            "6                  0                 1                  1   \n",
            "\n",
            "   Musculoskeletal and connective tissue disorders_gt  \\\n",
            "0                                                  1    \n",
            "1                                                  1    \n",
            "2                                                  1    \n",
            "3                                                  1    \n",
            "4                                                  1    \n",
            "5                                                  1    \n",
            "6                                                  1    \n",
            "\n",
            "   Gastrointestinal disorders_gt  Social circumstances_gt  ...  \\\n",
            "0                              1                        0  ...   \n",
            "1                              1                        0  ...   \n",
            "2                              1                        0  ...   \n",
            "3                              1                        0  ...   \n",
            "4                              1                        0  ...   \n",
            "5                              1                        0  ...   \n",
            "6                              1                        1  ...   \n",
            "\n",
            "   Congenital, familial and genetic disorders_pred  \\\n",
            "0                                         0.032125   \n",
            "1                                         0.194408   \n",
            "2                                         0.222366   \n",
            "3                                         0.149625   \n",
            "4                                         0.241679   \n",
            "5                                         0.479694   \n",
            "6                                         0.623100   \n",
            "\n",
            "   Infections and infestations_pred  \\\n",
            "0                          0.996278   \n",
            "1                          0.547875   \n",
            "2                          0.935044   \n",
            "3                          0.624964   \n",
            "4                          0.692619   \n",
            "5                          0.716660   \n",
            "6                          0.999749   \n",
            "\n",
            "   Respiratory, thoracic and mediastinal disorders_pred  \\\n",
            "0                                           0.994513      \n",
            "1                                           0.574001      \n",
            "2                                           0.965423      \n",
            "3                                           0.692757      \n",
            "4                                           0.836183      \n",
            "5                                           0.768522      \n",
            "6                                           0.999923      \n",
            "\n",
            "   Psychiatric disorders_pred  Renal and urinary disorders_pred  \\\n",
            "0                    0.984182                          0.993392   \n",
            "1                    0.555049                          0.611244   \n",
            "2                    0.956451                          0.766842   \n",
            "3                    0.677151                          0.637393   \n",
            "4                    0.831428                          0.715311   \n",
            "5                    0.775429                          0.667526   \n",
            "6                    0.999908                          0.999903   \n",
            "\n",
            "   Pregnancy, puerperium and perinatal conditions_pred  \\\n",
            "0                                           0.012457     \n",
            "1                                           0.067206     \n",
            "2                                           0.113062     \n",
            "3                                           0.055747     \n",
            "4                                           0.101912     \n",
            "5                                           0.298484     \n",
            "6                                           0.460667     \n",
            "\n",
            "   Ear and labyrinth disorders_pred  Cardiac disorders_pred  \\\n",
            "0                          0.921659                0.983893   \n",
            "1                          0.318471                0.538744   \n",
            "2                          0.818813                0.964794   \n",
            "3                          0.305935                0.702645   \n",
            "4                          0.575065                0.829681   \n",
            "5                          0.648540                0.778208   \n",
            "6                          0.999540                0.999858   \n",
            "\n",
            "   Nervous system disorders_pred  \\\n",
            "0                       0.999543   \n",
            "1                       0.844780   \n",
            "2                       0.996614   \n",
            "3                       0.957196   \n",
            "4                       0.979411   \n",
            "5                       0.968407   \n",
            "6                       0.999980   \n",
            "\n",
            "   Injury, poisoning and procedural complications_pred  \n",
            "0                                           0.993257    \n",
            "1                                           0.541580    \n",
            "2                                           0.947976    \n",
            "3                                           0.624910    \n",
            "4                                           0.703090    \n",
            "5                                           0.677637    \n",
            "6                                           0.999858    \n",
            "\n",
            "[7 rows x 59 columns]\n"
          ]
        }
      ],
      "source": [
        "# Merge the dataframes on 'Drug_Name'\n",
        "merged_df = pd.merge(sidereva_df, group2eva_df, on='Drug_Name', suffixes=('_gt', '_pred'))\n",
        "print(merged_df)"
      ]
    },
    {
      "cell_type": "code",
      "execution_count": 8,
      "metadata": {
        "id": "OjJs4C9v86Xs"
      },
      "outputs": [],
      "source": [
        "# Define the ground truth columns ending with '_gt' excluding \"0_gt\" and \"smiles_gt\"\n",
        "gt_columns = [col for col in merged_df.columns if col.endswith('_gt') and col not in [\"Unnamed: 0_gt\", \"smiles_gt\"]]\n",
        "\n",
        "# Generate prediction columns by replacing '_gt' with '_pred'\n",
        "pred_columns = [col.replace('_gt', '_pred') for col in gt_columns]\n"
      ]
    },
    {
      "cell_type": "code",
      "execution_count": 9,
      "metadata": {
        "colab": {
          "base_uri": "https://localhost:8080/"
        },
        "id": "yyKBydOl87jy",
        "outputId": "3d67c6b2-e857-4f99-ede0-d2446029e1ec"
      },
      "outputs": [
        {
          "name": "stdout",
          "output_type": "stream",
          "text": [
            "['Hepatobiliary disorders_gt', 'Metabolism and nutrition disorders_gt', 'Product issues_gt', 'Eye disorders_gt', 'Investigations_gt', 'Musculoskeletal and connective tissue disorders_gt', 'Gastrointestinal disorders_gt', 'Social circumstances_gt', 'Immune system disorders_gt', 'Reproductive system and breast disorders_gt', 'Neoplasms benign, malignant and unspecified (incl cysts and polyps)_gt', 'General disorders and administration site conditions_gt', 'Endocrine disorders_gt', 'Surgical and medical procedures_gt', 'Vascular disorders_gt', 'Blood and lymphatic system disorders_gt', 'Skin and subcutaneous tissue disorders_gt', 'Congenital, familial and genetic disorders_gt', 'Infections and infestations_gt', 'Respiratory, thoracic and mediastinal disorders_gt', 'Psychiatric disorders_gt', 'Renal and urinary disorders_gt', 'Pregnancy, puerperium and perinatal conditions_gt', 'Ear and labyrinth disorders_gt', 'Cardiac disorders_gt', 'Nervous system disorders_gt', 'Injury, poisoning and procedural complications_gt']\n"
          ]
        }
      ],
      "source": [
        "print(gt_columns)"
      ]
    },
    {
      "cell_type": "code",
      "execution_count": 10,
      "metadata": {
        "colab": {
          "base_uri": "https://localhost:8080/"
        },
        "id": "w0m0OlTY9Kz9",
        "outputId": "7477ddf7-c263-4c43-9e52-2222fd7608c9"
      },
      "outputs": [
        {
          "name": "stdout",
          "output_type": "stream",
          "text": [
            "Number of columns related to disorders: 27\n"
          ]
        }
      ],
      "source": [
        "num_gt_columns = len(gt_columns)\n",
        "\n",
        "print(\"Number of columns related to disorders:\", num_gt_columns)"
      ]
    },
    {
      "cell_type": "code",
      "execution_count": 11,
      "metadata": {
        "colab": {
          "base_uri": "https://localhost:8080/"
        },
        "id": "u3Z0cXjr-oLb",
        "outputId": "00b3fe40-d4ae-4c5a-9a87-cb10dde229b4"
      },
      "outputs": [
        {
          "name": "stdout",
          "output_type": "stream",
          "text": [
            "['Hepatobiliary disorders_pred', 'Metabolism and nutrition disorders_pred', 'Product issues_pred', 'Eye disorders_pred', 'Investigations_pred', 'Musculoskeletal and connective tissue disorders_pred', 'Gastrointestinal disorders_pred', 'Social circumstances_pred', 'Immune system disorders_pred', 'Reproductive system and breast disorders_pred', 'Neoplasms benign, malignant and unspecified (incl cysts and polyps)_pred', 'General disorders and administration site conditions_pred', 'Endocrine disorders_pred', 'Surgical and medical procedures_pred', 'Vascular disorders_pred', 'Blood and lymphatic system disorders_pred', 'Skin and subcutaneous tissue disorders_pred', 'Congenital, familial and genetic disorders_pred', 'Infections and infestations_pred', 'Respiratory, thoracic and mediastinal disorders_pred', 'Psychiatric disorders_pred', 'Renal and urinary disorders_pred', 'Pregnancy, puerperium and perinatal conditions_pred', 'Ear and labyrinth disorders_pred', 'Cardiac disorders_pred', 'Nervous system disorders_pred', 'Injury, poisoning and procedural complications_pred']\n"
          ]
        }
      ],
      "source": [
        "print(pred_columns)"
      ]
    },
    {
      "cell_type": "code",
      "execution_count": 12,
      "metadata": {
        "colab": {
          "base_uri": "https://localhost:8080/"
        },
        "id": "PLRZRawH-srL",
        "outputId": "2395a4cb-544d-49b5-8e02-ec9c2d229fea"
      },
      "outputs": [
        {
          "name": "stdout",
          "output_type": "stream",
          "text": [
            "Number of columns related to disorders: 27\n"
          ]
        }
      ],
      "source": [
        "# Count the number of columns related to disorders\n",
        "num_pred_columns = len(pred_columns)\n",
        "\n",
        "print(\"Number of columns related to disorders:\", num_pred_columns)"
      ]
    },
    {
      "cell_type": "code",
      "execution_count": 18,
      "metadata": {
        "colab": {
          "base_uri": "https://localhost:8080/",
          "height": 1000
        },
        "id": "3KbIghwL-7rs",
        "outputId": "dbc7dfd8-27cf-479d-9afa-3aa6e51bfff2"
      },
      "outputs": [],
      "source": [
        "# Assuming merged_df, gt_columns, pred_columns are predefined\n",
        "confusion_matrices = {}\n",
        "\n",
        "# Compute confusion matrices for each drug\n",
        "for drug_name in merged_df['Drug_Name'].unique():\n",
        "    drug_df = merged_df[merged_df['Drug_Name'] == drug_name]\n",
        "    y_true = drug_df[gt_columns].iloc[0].values.astype(int)\n",
        "    y_pred_prob = drug_df[pred_columns].iloc[0].values\n",
        "    y_pred = (y_pred_prob >= 0.5).astype(int)\n",
        "    cm = confusion_matrix(y_true, y_pred).T\n",
        "    confusion_matrices[drug_name] = cm\n",
        "\n",
        "# Define the number of drugs to plot and select the drugs\n",
        "num_drugs_to_plot = 7\n",
        "selected_drugs = list(confusion_matrices.keys())[:num_drugs_to_plot]\n",
        "\n",
        "# Set the output directory\n",
        "output_directory = 'C:/Users/stdso/Documents/USTH/Med/BioAct-Het-main/Output/CF'\n",
        "\n",
        "# Ensure the output directory exists\n",
        "os.makedirs(output_directory, exist_ok=True)\n",
        "\n",
        "# Plot the confusion matrix for each selected drug and save independently\n",
        "for drug_name in selected_drugs:\n",
        "    cm = confusion_matrices[drug_name]\n",
        "    \n",
        "    # Create a new figure for each drug\n",
        "    plt.figure(figsize=(8, 8))  \n",
        "    sns.heatmap(cm, annot=True, fmt='d', cmap='Blues', annot_kws={\"size\": 16}, cbar=False)  \n",
        "    plt.title(f'Confusion Matrix for {drug_name}', size=20) \n",
        "    plt.xlabel('True Label', size=18)  \n",
        "    plt.ylabel('Predicted Label', size=18) \n",
        "    plt.gca().invert_yaxis()\n",
        "    \n",
        "    # Save each figure independently\n",
        "    output_path = os.path.join(output_directory, f'{drug_name}_confusion_matrix.png')\n",
        "    plt.savefig(output_path, bbox_inches='tight')\n",
        "    \n",
        "    # Close the figure to free memory\n",
        "    plt.close()"
      ]
    }
  ],
  "metadata": {
    "colab": {
      "provenance": []
    },
    "kernelspec": {
      "display_name": "Python 3",
      "name": "python3"
    },
    "language_info": {
      "codemirror_mode": {
        "name": "ipython",
        "version": 3
      },
      "file_extension": ".py",
      "mimetype": "text/x-python",
      "name": "python",
      "nbconvert_exporter": "python",
      "pygments_lexer": "ipython3",
      "version": "3.11.4"
    }
  },
  "nbformat": 4,
  "nbformat_minor": 0
}
